{
 "cells": [
  {
   "cell_type": "code",
   "execution_count": 2,
   "metadata": {},
   "outputs": [],
   "source": [
    "import numpy as np \n",
    "import xarray as xr \n",
    "import torch\n",
    "\n",
    "import torch \n",
    "import torch.nn as nn\n",
    "from torch.utils.data import Dataset, DataLoader\n",
    "from tqdm import tqdm\n",
    "DEVICE = torch.device(\"cuda\" if torch.cuda.is_available() else \"cpu\")"
   ]
  },
  {
   "cell_type": "code",
   "execution_count": 2,
   "metadata": {},
   "outputs": [],
   "source": [
    "ozone_2011 = xr.open_dataset(\"/Volumes/Extreme SSD/PRL/data/high_res/WRF_2011.nc\")\n",
    "co_no2_2011 = xr.open_dataset(\"/Volumes/Extreme SSD/PRL/data/high_res/WRF_Archi_2011_CO_NO2.nc\")\n",
    "no_2011 = xr.open_dataset(\"/Volumes/Extreme SSD/PRL/data/high_res/WRF_Archi_2011_NO.nc\")\n",
    "humidity_2011 = xr.open_dataset(\"/Volumes/Extreme SSD/PRL/data/high_res/WRF_Archi_2011_SpecificHum.nc\")\n",
    "temp_2011 = xr.open_dataset(\"/Volumes/Extreme SSD/PRL/data/high_res/WRF_2011_Archi_T.nc\")\n",
    "TIME_POINTS, PRESSURE_POINTS, LAT_POINTS, LON_POINTS = ozone_2011[\"o3\"].shape\n",
    "\n",
    "combined_data = xr.Dataset(\n",
    "    {\n",
    "        \"ozone\": ozone_2011[\"o3\"],\n",
    "        \"pm25\": ozone_2011[\"PM2_5_DRY\"],\n",
    "        \"co\":  co_no2_2011[\"co\"],\n",
    "        \"no2\": co_no2_2011[\"no2\"],\n",
    "        \"no\": no_2011[\"no\"],\n",
    "        \"humidity\": humidity_2011[\"QVAPOR\"],\n",
    "        \"temperature\": temp_2011[\"T2\"].expand_dims({\"bottom_top\": np.arange(PRESSURE_POINTS)}, axis=1)\n",
    "    },\n",
    "    coords={\"time\": ozone_2011[\"Times\"], \n",
    "            \"pressure\": ozone_2011[\"bottom_top\"], \n",
    "            \"latitude\": ozone_2011[\"south_north\"], \n",
    "            \"longitude\": ozone_2011[\"west_east\"]})"
   ]
  },
  {
   "cell_type": "code",
   "execution_count": 3,
   "metadata": {},
   "outputs": [],
   "source": [
    "class ConvBlock(nn.Module):\n",
    "    def __init__(self, in_channels, out_channels, kernel_size, stride, padding, use_activation: bool, *args, **kwargs) -> None:\n",
    "        super().__init__(*args, **kwargs)\n",
    "        self.conv = nn.Conv3d(in_channels, out_channels, kernel_size, stride, padding, bias = True)\n",
    "        self.activation = nn.LeakyReLU(0.2, inplace=True) if use_activation else nn.Identity()\n",
    "\n",
    "    def forward(self, x):\n",
    "        return self.activation(self.conv(x))\n",
    "    \n",
    "class DenseResidualBlock(nn.Module):\n",
    "    def __init__(self, in_channels: int, channels = 32, beta: float = 0.2, *args, **kwargs):\n",
    "        super().__init__(*args, **kwargs)\n",
    "        self.beta = beta \n",
    "        self.conv = nn.ModuleList()\n",
    "\n",
    "        for block_no in range(5):\n",
    "            self.conv.append(ConvBlock(in_channels + channels * block_no, \n",
    "                                       channels if block_no < 4 else in_channels,\n",
    "                                         use_activation=True if block_no < 4 else False,\n",
    "                                           kernel_size=3, stride=1, padding=1))\n",
    "            \n",
    "            \n",
    "    def forward(self, x):\n",
    "        new_inputs = x\n",
    "        for block in self.conv:\n",
    "            out = block(new_inputs)\n",
    "            new_inputs = torch.cat([new_inputs, out], dim=1)\n",
    "        return self.beta * out + x\n",
    "    \n",
    "\n",
    "class RRDB(nn.Module):\n",
    "    def __init__(self, in_channels, residual_beta, *args, **kwargs) -> None:\n",
    "        super().__init__(*args, **kwargs)\n",
    "        self.residual_beta = residual_beta\n",
    "        self.rrdb = nn.Sequential(*[DenseResidualBlock(in_channels, beta=residual_beta) for _ in range(3)])\n",
    "\n",
    "    def forward(self, x):\n",
    "        return self.rrdb(x) * self.residual_beta + x\n",
    "    \n",
    "\n",
    "class ModifiedSRCNN(nn.Module):\n",
    "    def __init__(self, in_channels: int, num_blocks: int, \n",
    "                 n1: int, n2: int, f1: int, f2: int, f3: int,\n",
    "                 *args, **kwargs) -> None:\n",
    "        \"\"\" Initialize the SRCNN with Dense Residual network model with the required layers \n",
    "         Below params are the hyperparameters for the SRCNN model without the \n",
    "         Bassic block which has been added extra other than the resisual connections.\n",
    "        in_channels (int): Input number of channels\n",
    "        num_blocks (int): Number of RRDB blocks\n",
    "        n1 (int): Number of filters in the first convolutional layer\n",
    "        n2 (int): Number of filters in the second convolutional layer\n",
    "        f1 (int): Kernel size of the first convolutional layer\n",
    "        f2 (int): Kernel size of the second convolutional layer\n",
    "        f3 (int): Kernel size of the third convolutional layer\n",
    "        residual_beta (float): Residual connection weight\n",
    "        \"\"\"\n",
    "        super().__init__(*args, **kwargs)\n",
    "        self.conv1 = ConvBlock(in_channels, n1, kernel_size=f1, stride=1, padding=4, use_activation=True)\n",
    "        self.blocks = nn.Sequential(*[RRDB(n1, residual_beta=0.5) for _ in range(num_blocks)])\n",
    "        self.conv2 = ConvBlock(n1, n2, kernel_size=f2, stride=1, padding=2, use_activation=True)\n",
    "        self.conv3 = ConvBlock(n2 + in_channels, in_channels, kernel_size=f3, stride=1, padding=2, use_activation=False)\n",
    "\n",
    "    def forward(self, x):\n",
    "        initial = x \n",
    "        x = self.conv1(x)\n",
    "        x = self.blocks(x)\n",
    "        x = self.conv2(x)\n",
    "        # x = torch.concat([x, initial], dim=1)\n",
    "        x = self.conv3(x)\n",
    "        return x\n",
    "    \n",
    "    def _initialize_weights(self):\n",
    "        for m in self.modules():\n",
    "            if isinstance(m, nn.Conv3d):\n",
    "                torch.nn.init.xavier_uniform_(m.weight)\n",
    "                if m.bias is not None:\n",
    "                    torch.nn.init.zeros_(m.bias)\n"
   ]
  },
  {
   "cell_type": "code",
   "execution_count": 4,
   "metadata": {},
   "outputs": [],
   "source": [
    "random_tensor = torch.rand(32, 7, 50, 31, 23, dtype=torch.float32).to(DEVICE)\n",
    "srcnn = ModifiedSRCNN(7, 3, 32, 32, 3, 3, 3).to(DEVICE)"
   ]
  },
  {
   "cell_type": "code",
   "execution_count": 5,
   "metadata": {},
   "outputs": [
    {
     "data": {
      "text/plain": [
       "31.9424"
      ]
     },
     "execution_count": 5,
     "metadata": {},
     "output_type": "execute_result"
    }
   ],
   "source": [
    "random_tensor.nbytes / 1e6"
   ]
  },
  {
   "cell_type": "code",
   "execution_count": null,
   "metadata": {},
   "outputs": [],
   "source": []
  }
 ],
 "metadata": {
  "kernelspec": {
   "display_name": "Python 3",
   "language": "python",
   "name": "python3"
  },
  "language_info": {
   "codemirror_mode": {
    "name": "ipython",
    "version": 3
   },
   "file_extension": ".py",
   "mimetype": "text/x-python",
   "name": "python",
   "nbconvert_exporter": "python",
   "pygments_lexer": "ipython3",
   "version": "3.11.5"
  }
 },
 "nbformat": 4,
 "nbformat_minor": 2
}
