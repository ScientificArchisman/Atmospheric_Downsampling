{
 "cells": [
  {
   "cell_type": "code",
   "execution_count": 6,
   "metadata": {},
   "outputs": [],
   "source": [
    "import torch\n",
    "import torch.nn as nn\n",
    "import numpy as np \n",
    "import matplotlib.pyplot as plt \n",
    "plt.style.use([\"science\", \"notebook\", \"grid\"])\n",
    "from Model.mod_srcnn import ModifiedSRCNN\n",
    "from Model import  config\n",
    "DEVICE = torch.device(\"cuda\" if torch.cuda.is_available() else \"cpu\")"
   ]
  },
  {
   "cell_type": "code",
   "execution_count": 5,
   "metadata": {},
   "outputs": [
    {
     "ename": "TypeError",
     "evalue": "ModifiedSRCNN.__init__() missing 7 required positional arguments: 'in_channels', 'num_blocks', 'n1', 'n2', 'f1', 'f2', and 'f3'",
     "output_type": "error",
     "traceback": [
      "\u001b[0;31m---------------------------------------------------------------------------\u001b[0m",
      "\u001b[0;31mTypeError\u001b[0m                                 Traceback (most recent call last)",
      "Cell \u001b[0;32mIn[5], line 2\u001b[0m\n\u001b[1;32m      1\u001b[0m WEIGHTS_FOLDER \u001b[38;5;241m=\u001b[39m \u001b[38;5;124m\"\u001b[39m\u001b[38;5;124mweights/\u001b[39m\u001b[38;5;124m\"\u001b[39m\n\u001b[0;32m----> 2\u001b[0m model \u001b[38;5;241m=\u001b[39m \u001b[43mModifiedSRCNN\u001b[49m\u001b[43m(\u001b[49m\u001b[43m)\u001b[49m\n\u001b[1;32m      3\u001b[0m state_dict \u001b[38;5;241m=\u001b[39m torch\u001b[38;5;241m.\u001b[39mload(WEIGHTS_FOLDER \u001b[38;5;241m+\u001b[39m \u001b[38;5;124m\"\u001b[39m\u001b[38;5;124msrcnn.pth\u001b[39m\u001b[38;5;124m\"\u001b[39m, map_location\u001b[38;5;241m=\u001b[39mDEVICE)\n",
      "\u001b[0;31mTypeError\u001b[0m: ModifiedSRCNN.__init__() missing 7 required positional arguments: 'in_channels', 'num_blocks', 'n1', 'n2', 'f1', 'f2', and 'f3'"
     ]
    }
   ],
   "source": [
    "WEIGHTS_FOLDER = \"weights/\"\n",
    "model_srcnn = ModifiedSRCNN(in_channels=config.in_channels, num_blocks=config.num_blocks, \n",
    "                          n1=config.n1, n2=config.n2, f1=config.f1, f2=config.f2, f3=config.f3)\n",
    "state_dict = torch.load(WEIGHTS_FOLDER + \"srcnn.pth\", map_location=DEVICE)\n",
    "model_srcnn.load_state_dict(state_dict)"
   ]
  },
  {
   "cell_type": "code",
   "execution_count": 7,
   "metadata": {},
   "outputs": [
    {
     "ename": "FileNotFoundError",
     "evalue": "[Errno 2] No such file or directory: 'data/low_res/low_res_1.npy'",
     "output_type": "error",
     "traceback": [
      "\u001b[0;31m---------------------------------------------------------------------------\u001b[0m",
      "\u001b[0;31mFileNotFoundError\u001b[0m                         Traceback (most recent call last)",
      "Cell \u001b[0;32mIn[7], line 5\u001b[0m\n\u001b[1;32m      1\u001b[0m \u001b[38;5;66;03m# Image batch \u001b[39;00m\n\u001b[1;32m      2\u001b[0m \u001b[38;5;66;03m# LOW_RES_PATH  = \"data/low_res/\"\u001b[39;00m\n\u001b[1;32m      3\u001b[0m \u001b[38;5;66;03m# HIGH_RES_PATH = \"data/high_res/\"\u001b[39;00m\n\u001b[0;32m----> 5\u001b[0m low_res \u001b[38;5;241m=\u001b[39m \u001b[43mnp\u001b[49m\u001b[38;5;241;43m.\u001b[39;49m\u001b[43mload\u001b[49m\u001b[43m(\u001b[49m\u001b[38;5;124;43m\"\u001b[39;49m\u001b[38;5;124;43mdata/low_res/low_res_1.npy\u001b[39;49m\u001b[38;5;124;43m\"\u001b[39;49m\u001b[43m)\u001b[49m\n\u001b[1;32m      6\u001b[0m high_res \u001b[38;5;241m=\u001b[39m np\u001b[38;5;241m.\u001b[39mload(\u001b[38;5;124m\"\u001b[39m\u001b[38;5;124mdata/high_res/high_res_1.npy\u001b[39m\u001b[38;5;124m\"\u001b[39m)\n",
      "File \u001b[0;32m/Library/Frameworks/Python.framework/Versions/3.11/lib/python3.11/site-packages/numpy/lib/npyio.py:405\u001b[0m, in \u001b[0;36mload\u001b[0;34m(file, mmap_mode, allow_pickle, fix_imports, encoding, max_header_size)\u001b[0m\n\u001b[1;32m    403\u001b[0m     own_fid \u001b[38;5;241m=\u001b[39m \u001b[38;5;28;01mFalse\u001b[39;00m\n\u001b[1;32m    404\u001b[0m \u001b[38;5;28;01melse\u001b[39;00m:\n\u001b[0;32m--> 405\u001b[0m     fid \u001b[38;5;241m=\u001b[39m stack\u001b[38;5;241m.\u001b[39menter_context(\u001b[38;5;28;43mopen\u001b[39;49m\u001b[43m(\u001b[49m\u001b[43mos_fspath\u001b[49m\u001b[43m(\u001b[49m\u001b[43mfile\u001b[49m\u001b[43m)\u001b[49m\u001b[43m,\u001b[49m\u001b[43m \u001b[49m\u001b[38;5;124;43m\"\u001b[39;49m\u001b[38;5;124;43mrb\u001b[39;49m\u001b[38;5;124;43m\"\u001b[39;49m\u001b[43m)\u001b[49m)\n\u001b[1;32m    406\u001b[0m     own_fid \u001b[38;5;241m=\u001b[39m \u001b[38;5;28;01mTrue\u001b[39;00m\n\u001b[1;32m    408\u001b[0m \u001b[38;5;66;03m# Code to distinguish from NumPy binary files and pickles.\u001b[39;00m\n",
      "\u001b[0;31mFileNotFoundError\u001b[0m: [Errno 2] No such file or directory: 'data/low_res/low_res_1.npy'"
     ]
    }
   ],
   "source": [
    "# Image batch \n",
    "LOW_RES_PATH  = \"data/low_res/\"\n",
    "HIGH_RES_PATH = \"data/high_res/\"\n",
    "\n",
    "low_res = np.load(LOW_RES_PATH)\n",
    "high_res = np.load(HIGH_RES_PATH)\n",
    "\n",
    "low_res_img = torch.tensor(low_res[0], dtype=torch.float32).unsqueeze(0).to(DEVICE)\n",
    "high_res_img = torch.tensor(high_res[0], dtype=torch.float32).unsqueeze(0).to(DEVICE)\n",
    "\n",
    "# Print shapes\n",
    "print(f\"Low res image shape: {low_res_img.shape}\")\n",
    "print(f\"High res image shape: {high_res_img.shape}\")"
   ]
  },
  {
   "cell_type": "code",
   "execution_count": null,
   "metadata": {},
   "outputs": [],
   "source": [
    "# Plot low res and high res image\n",
    "fig, ax = plt.subplots(1, 2, figsize=(10, 5))\n",
    "ax[0].imshow(low_res_img[0, 0, 0, :, :].cpu().detach().numpy())\n",
    "ax[0].set_title(\"Low res image\")\n",
    "ax[0].axis(\"off\")\n",
    "\n",
    "ax[1].imshow(high_res_img[0, 0, 0, :, :].cpu().detach().numpy())\n",
    "ax[1].set_title(\"High res image\")\n",
    "ax[1].axis(\"off\")\n",
    "plt.show()"
   ]
  },
  {
   "cell_type": "code",
   "execution_count": null,
   "metadata": {},
   "outputs": [],
   "source": [
    "sr_image = model_srcnn(low_res_img)\n",
    "sr_image = sr_image.squeeze(0).detach().cpu().numpy()\n",
    "\n",
    "# Print shapes\n",
    "print(f\"Super resolution image shape: {sr_image.shape}\")"
   ]
  },
  {
   "cell_type": "code",
   "execution_count": null,
   "metadata": {},
   "outputs": [],
   "source": [
    "# Plot images\n",
    "fig, ax = plt.subplots(1, 3, figsize=(15, 5))\n",
    "ax[0].imshow(low_res_img[0, 0, 0, :, :].cpu().detach().numpy())\n",
    "ax[0].set_title(\"Low resolution image\")\n",
    "ax[0].axis(\"off\")\n",
    "\n",
    "ax[1].imshow(high_res_img[0, 0, 0, :, :].cpu().detach().numpy())\n",
    "ax[1].set_title(\"High resolution image\")\n",
    "ax[1].axis(\"off\")\n",
    "\n",
    "ax[2].imshow(sr_image[0, 0, 0, :, :].cpu().detach().numpy())\n",
    "ax[2].set_title(\"Super resolution image\")\n",
    "ax[2].axis(\"off\")\n",
    "\n",
    "plt.show()"
   ]
  }
 ],
 "metadata": {
  "kernelspec": {
   "display_name": "Python 3",
   "language": "python",
   "name": "python3"
  },
  "language_info": {
   "codemirror_mode": {
    "name": "ipython",
    "version": 3
   },
   "file_extension": ".py",
   "mimetype": "text/x-python",
   "name": "python",
   "nbconvert_exporter": "python",
   "pygments_lexer": "ipython3",
   "version": "3.11.5"
  }
 },
 "nbformat": 4,
 "nbformat_minor": 2
}
